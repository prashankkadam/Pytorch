{
  "nbformat": 4,
  "nbformat_minor": 0,
  "metadata": {
    "colab": {
      "name": "Untitled18.ipynb",
      "provenance": [],
      "collapsed_sections": [],
      "include_colab_link": true
    },
    "kernelspec": {
      "name": "python3",
      "display_name": "Python 3"
    },
    "accelerator": "GPU"
  },
  "cells": [
    {
      "cell_type": "markdown",
      "metadata": {
        "id": "view-in-github",
        "colab_type": "text"
      },
      "source": [
        "<a href=\"https://colab.research.google.com/github/prashankkadam/Pytorch/blob/master/Untitled18.ipynb\" target=\"_parent\"><img src=\"https://colab.research.google.com/assets/colab-badge.svg\" alt=\"Open In Colab\"/></a>"
      ]
    },
    {
      "cell_type": "code",
      "metadata": {
        "id": "bdEFPgtVG4Is",
        "colab_type": "code",
        "colab": {}
      },
      "source": [
        "import torch\n",
        "import torch.nn as nn\n",
        "import torch.nn.functional as F\n",
        "import torchvision\n",
        "import torchvision.transforms as transforms"
      ],
      "execution_count": 0,
      "outputs": []
    },
    {
      "cell_type": "code",
      "metadata": {
        "id": "RmUtSHH0HShp",
        "colab_type": "code",
        "colab": {
          "base_uri": "https://localhost:8080/",
          "height": 285
        },
        "outputId": "515819db-781f-4634-bb17-6fba97980a88"
      },
      "source": [
        "BATCH_SIZE =32\n",
        "\n",
        "# transforms\n",
        "transform = transforms.Compose(\n",
        "              [transforms.ToTensor()])\n",
        "\n",
        "# download and load the training dataset\n",
        "trainset = torchvision.datasets.MNIST(root='./data', train=True,\n",
        "                                    download=True, transform=transform)\n",
        "\n",
        "trainloader = torch.utils.data.DataLoader(trainset, batch_size=BATCH_SIZE,\n",
        "                                          shuffle=True, num_workers=2)\n",
        "\n",
        "# download and load test dataset \n",
        "testset = torchvision.datasets.MNIST(root='./data', train=False, download=True,\n",
        "                                    transform=transform)\n",
        "\n",
        "testloader = torch.utils.data.DataLoader(testset, batch_size=BATCH_SIZE,\n",
        "                                        shuffle=True, num_workers=2)"
      ],
      "execution_count": 2,
      "outputs": [
        {
          "output_type": "stream",
          "text": [
            "  0%|          | 16384/9912422 [00:00<01:13, 135283.35it/s]"
          ],
          "name": "stderr"
        },
        {
          "output_type": "stream",
          "text": [
            "Downloading http://yann.lecun.com/exdb/mnist/train-images-idx3-ubyte.gz to ./data/MNIST/raw/train-images-idx3-ubyte.gz\n"
          ],
          "name": "stdout"
        },
        {
          "output_type": "stream",
          "text": [
            "9920512it [00:00, 31674084.62it/s]                           \n"
          ],
          "name": "stderr"
        },
        {
          "output_type": "stream",
          "text": [
            "Extracting ./data/MNIST/raw/train-images-idx3-ubyte.gz to ./data/MNIST/raw\n"
          ],
          "name": "stdout"
        },
        {
          "output_type": "stream",
          "text": [
            "32768it [00:00, 470744.22it/s]\n",
            "  2%|▏         | 40960/1648877 [00:00<00:04, 393416.50it/s]"
          ],
          "name": "stderr"
        },
        {
          "output_type": "stream",
          "text": [
            "Downloading http://yann.lecun.com/exdb/mnist/train-labels-idx1-ubyte.gz to ./data/MNIST/raw/train-labels-idx1-ubyte.gz\n",
            "Extracting ./data/MNIST/raw/train-labels-idx1-ubyte.gz to ./data/MNIST/raw\n",
            "Downloading http://yann.lecun.com/exdb/mnist/t10k-images-idx3-ubyte.gz to ./data/MNIST/raw/t10k-images-idx3-ubyte.gz\n"
          ],
          "name": "stdout"
        },
        {
          "output_type": "stream",
          "text": [
            "1654784it [00:00, 8887887.83it/s]                          \n",
            "8192it [00:00, 168317.05it/s]\n"
          ],
          "name": "stderr"
        },
        {
          "output_type": "stream",
          "text": [
            "Extracting ./data/MNIST/raw/t10k-images-idx3-ubyte.gz to ./data/MNIST/raw\n",
            "Downloading http://yann.lecun.com/exdb/mnist/t10k-labels-idx1-ubyte.gz to ./data/MNIST/raw/t10k-labels-idx1-ubyte.gz\n",
            "Extracting ./data/MNIST/raw/t10k-labels-idx1-ubyte.gz to ./data/MNIST/raw\n",
            "Processing...\n",
            "Done!\n"
          ],
          "name": "stdout"
        }
      ]
    },
    {
      "cell_type": "code",
      "metadata": {
        "id": "txVcGP14JMRz",
        "colab_type": "code",
        "colab": {
          "base_uri": "https://localhost:8080/",
          "height": 220
        },
        "outputId": "7dc25871-4f45-483d-e261-075566c959ed"
      },
      "source": [
        "import matplotlib.pyplot as plt\n",
        "import numpy as np\n",
        "\n",
        "\n",
        "# function to show an image\n",
        "def imshow(img):\n",
        "  #img = img / 2 +0.5    #unnormalize\n",
        "  npimg = img.numpy()\n",
        "  plt.imshow(np.transpose(npimg, (1, 2, 0)))\n",
        "  \n",
        "# get some random training images\n",
        "dataiter = iter(trainloader)\n",
        "images, labels = dataiter.next()\n",
        "\n",
        "# show images\n",
        "imshow(torchvision.utils.make_grid(images))"
      ],
      "execution_count": 3,
      "outputs": [
        {
          "output_type": "display_data",
          "data": {
            "image/png": "[encoded data removed]",
            "text/plain": [
              "<Figure size 432x288 with 1 Axes>"
            ]
          },
          "metadata": {
            "tags": []
          }
        }
      ]
    },
    {
      "cell_type": "code",
      "metadata": {
        "id": "nQr6QSQKKgHz",
        "colab_type": "code",
        "colab": {
          "base_uri": "https://localhost:8080/",
          "height": 52
        },
        "outputId": "cf2bc208-6254-40cf-c36b-91ecf46c8d22"
      },
      "source": [
        "# checking the dimension of each batch\n",
        "for images, labels in trainloader:\n",
        "  print(\"Image batch dimension: \", images.shape)\n",
        "  print(\"Image label dimension: \", labels.shape)\n",
        "  break"
      ],
      "execution_count": 4,
      "outputs": [
        {
          "output_type": "stream",
          "text": [
            "Image batch dimension:  torch.Size([32, 1, 28, 28])\n",
            "Image label dimension:  torch.Size([32])\n"
          ],
          "name": "stdout"
        }
      ]
    },
    {
      "cell_type": "code",
      "metadata": {
        "id": "Zeb45ra5Lhfg",
        "colab_type": "code",
        "colab": {}
      },
      "source": [
        "class MyModel(nn.Module):\n",
        "  def __init__(self):\n",
        "    super(MyModel, self).__init__()\n",
        "    \n",
        "    #28x28x1 => 26x26x32\n",
        "    self.conv1 = nn.Conv2d(in_channels=1, out_channels=32, kernel_size=3)\n",
        "    self.d1 = nn.Linear(26 * 26 *32, 128)\n",
        "    self.d2 = nn.Linear(128, 10)\n",
        "    \n",
        "  def forward(self, x):\n",
        "    # 32x1x28x28 => 32x32x26x26\n",
        "    x = self.conv1(x)\n",
        "    x = F.relu(x)\n",
        "    \n",
        "    # flatten => 32 x (32*26*26)\n",
        "    x = x.flatten(start_dim = 1)\n",
        "    \n",
        "    # 32 x (32*26*26) => 32x128\n",
        "    x = self.d1(x)\n",
        "    x = F.relu(x)\n",
        "    \n",
        "    # logits => 32x10\n",
        "    logits = self.d2(x)\n",
        "    out = F.softmax(logits, dim=1)\n",
        "    return out\n",
        "    "
      ],
      "execution_count": 0,
      "outputs": []
    },
    {
      "cell_type": "code",
      "metadata": {
        "id": "75nW54dfaApo",
        "colab_type": "code",
        "colab": {
          "base_uri": "https://localhost:8080/",
          "height": 52
        },
        "outputId": "3817ad7b-c39c-4542-cb4c-631c7c6d1a04"
      },
      "source": [
        "# testing the model with one batch\n",
        "model = MyModel()\n",
        "\n",
        "for images, labels in trainloader:\n",
        "  print(\"batch size: \", images.shape)\n",
        "  out = model(images)\n",
        "  print(out.shape)\n",
        "  break"
      ],
      "execution_count": 6,
      "outputs": [
        {
          "output_type": "stream",
          "text": [
            "batch size:  torch.Size([32, 1, 28, 28])\n",
            "torch.Size([32, 10])\n"
          ],
          "name": "stdout"
        }
      ]
    },
    {
      "cell_type": "code",
      "metadata": {
        "id": "Zo3L7CisauDi",
        "colab_type": "code",
        "colab": {}
      },
      "source": [
        "learning_rate = 0.001\n",
        "num_epochs = 5\n",
        "\n",
        "device = torch.device(\"cuda:0\" if torch.cuda.is_available() else \"cpu\")\n",
        "model = MyModel()\n",
        "model = model.to(device)\n",
        "criterion = nn.CrossEntropyLoss()\n",
        "optimizer = torch.optim.Adam(model.parameters(), lr=learning_rate)\n",
        "\n",
        "#computer the accuracy \n",
        "def get_accuracy(logit, target, batch_size):\n",
        "  \n",
        "  '''Obtain accuracy for the training round'''\n",
        "  corrects = (torch.max(logit, 1)[1].view(target.size()).data == target.data).sum()\n",
        "  accuracy = 100.0 * corrects/batch_size\n",
        "  return accuracy.item()"
      ],
      "execution_count": 0,
      "outputs": []
    },
    {
      "cell_type": "code",
      "metadata": {
        "id": "wbAujPyNc6H0",
        "colab_type": "code",
        "colab": {
          "base_uri": "https://localhost:8080/",
          "height": 105
        },
        "outputId": "e3620ef2-5d06-46ae-fd64-574a0e808859"
      },
      "source": [
        "#training\n",
        "for epoch in range(num_epochs):\n",
        "  train_running_loss = 0.0\n",
        "  train_acc = 0.0\n",
        "  \n",
        "  model = model.train()\n",
        "  \n",
        "  # train step\n",
        "  for i, (images, labels) in enumerate(trainloader):\n",
        "    \n",
        "    images = images.to(device)\n",
        "    labels = labels.to(device)\n",
        "    \n",
        "    # forward + backprop + loss\n",
        "    logits = model(images)\n",
        "    loss = criterion(logits, labels)\n",
        "    optimizer.zero_grad()\n",
        "    loss.backward()\n",
        "    \n",
        "    #update model params\n",
        "    optimizer.step()\n",
        "    \n",
        "    train_running_loss += loss.detach().item()\n",
        "    train_acc += get_accuracy(logits, labels, BATCH_SIZE)\n",
        "    \n",
        "  model.eval()\n",
        "  print('Epoch: %d | Loss: %.4f | Train Accuracy: %.2f' \\\n",
        "       %(epoch, train_running_loss / i, train_acc/i))"
      ],
      "execution_count": 8,
      "outputs": [
        {
          "output_type": "stream",
          "text": [
            "Epoch: 0 | Loss: 1.5823 | Train Accuracy: 87.72\n",
            "Epoch: 1 | Loss: 1.4928 | Train Accuracy: 96.64\n",
            "Epoch: 2 | Loss: 1.4827 | Train Accuracy: 97.70\n",
            "Epoch: 3 | Loss: 1.4782 | Train Accuracy: 98.19\n",
            "Epoch: 4 | Loss: 1.4752 | Train Accuracy: 98.51\n"
          ],
          "name": "stdout"
        }
      ]
    },
    {
      "cell_type": "code",
      "metadata": {
        "id": "6rBweonCer4K",
        "colab_type": "code",
        "colab": {
          "base_uri": "https://localhost:8080/",
          "height": 34
        },
        "outputId": "d87e5df0-0a86-4a81-8541-0da2ca4f2556"
      },
      "source": [
        "test_acc = 0.0\n",
        "\n",
        "for i, (images, labels) in enumerate(testloader, 0):\n",
        "  images = images.to(device)\n",
        "  labels = labels.to(device)\n",
        "  outputs = model(images)\n",
        "  test_acc += get_accuracy(outputs, labels, BATCH_SIZE)\n",
        "  \n",
        "print('Test Accuracy: %.2f' %( test_acc/i))"
      ],
      "execution_count": 9,
      "outputs": [
        {
          "output_type": "stream",
          "text": [
            "Test Accuracy: 97.87\n"
          ],
          "name": "stdout"
        }
      ]
    }
  ]
}